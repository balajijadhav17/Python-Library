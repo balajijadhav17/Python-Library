{
 "cells": [
  {
   "cell_type": "markdown",
   "id": "40124c5d-f9b7-4bde-aedd-59dba387affd",
   "metadata": {},
   "source": [
    "# NUMPY RIVISON"
   ]
  },
  {
   "cell_type": "code",
   "execution_count": 1,
   "id": "436ebef8-e4ed-4a5c-8dd7-67b0618ca78f",
   "metadata": {},
   "outputs": [
    {
     "name": "stdout",
     "output_type": "stream",
     "text": [
      "[1 2 3 4 5 6 7]\n",
      "<class 'numpy.ndarray'>\n"
     ]
    }
   ],
   "source": [
    "# print numpy array\n",
    "import numpy as np \n",
    "n=np.array([1,2,3,4,5,6,7]) \n",
    "print(n) \n",
    "print(type(n))"
   ]
  },
  {
   "cell_type": "code",
   "execution_count": 2,
   "id": "cdc4c0c6-b7b8-4edf-a58f-f186b60076d1",
   "metadata": {},
   "outputs": [
    {
     "name": "stdout",
     "output_type": "stream",
     "text": [
      "[4 5 6 7]\n",
      "<class 'numpy.ndarray'>\n"
     ]
    }
   ],
   "source": [
    "# print numpy array using slicing\n",
    "import numpy as np \n",
    "n=np.array([1,2,3,4,5,6,7]) \n",
    "print(n[3:7]) \n",
    "print(type(n))"
   ]
  },
  {
   "cell_type": "markdown",
   "id": "0f1d26bc-ee89-4741-aeb0-51a66f119f01",
   "metadata": {},
   "source": [
    "# check dimension and type"
   ]
  },
  {
   "cell_type": "code",
   "execution_count": 8,
   "id": "d99924e7-7040-48c1-9d97-09273ca1bbdd",
   "metadata": {},
   "outputs": [
    {
     "name": "stdout",
     "output_type": "stream",
     "text": [
      "[[[1 2 3]\n",
      "  [5 6 7]]]\n",
      "3\n",
      "<class 'numpy.ndarray'>\n"
     ]
    }
   ],
   "source": [
    "#check dimension and type\n",
    "n=np.array([[[1,2,3],[5,6,7]]])\n",
    "print(n)\n",
    "print(n.ndim)\n",
    "print(type(n))"
   ]
  },
  {
   "cell_type": "code",
   "execution_count": 6,
   "id": "ac1ac275-0fad-4abf-b7ef-cecdb06c1391",
   "metadata": {},
   "outputs": [
    {
     "name": "stdout",
     "output_type": "stream",
     "text": [
      "[[[ 1  2  3]\n",
      "  [ 5  6  7]\n",
      "  [11 22 33]]]\n",
      "3\n",
      "<class 'numpy.ndarray'>\n"
     ]
    }
   ],
   "source": [
    "#check dimension and type\n",
    "n=np.array([[[1,2,3],[5,6,7],[11,22,33]]])\n",
    "print(n)\n",
    "print(n.ndim)\n",
    "print(type(n))"
   ]
  },
  {
   "cell_type": "code",
   "execution_count": 7,
   "id": "18c07f7d-a1bd-4e00-a15f-1d4bc8788af7",
   "metadata": {},
   "outputs": [
    {
     "name": "stdout",
     "output_type": "stream",
     "text": [
      "[[[[[[1 2]]]]]]\n",
      "6\n",
      "<class 'numpy.ndarray'>\n"
     ]
    }
   ],
   "source": [
    "#check dimension and type\n",
    "n=np.array([[[[[[1,2]]]]]])\n",
    "print(n)\n",
    "print(n.ndim)\n",
    "print(type(n))"
   ]
  },
  {
   "cell_type": "code",
   "execution_count": 4,
   "id": "67baaa2e-a844-400f-ba7f-813e730f9cb7",
   "metadata": {},
   "outputs": [
    {
     "name": "stdout",
     "output_type": "stream",
     "text": [
      "[11 22 33 44 55 66 77 88]\n"
     ]
    }
   ],
   "source": [
    "# print numpy using list\n",
    "l1=[11,22,33,44,55,66,77,88]\n",
    "n=np.array(l1)\n",
    "print(n)"
   ]
  },
  {
   "cell_type": "code",
   "execution_count": 5,
   "id": "8d00741d-c46e-4d9c-900c-d30e7cf66833",
   "metadata": {},
   "outputs": [
    {
     "name": "stdout",
     "output_type": "stream",
     "text": [
      "[1 2 3 4 5 6 7 8 9]\n"
     ]
    }
   ],
   "source": [
    "# print numpy array using range\n",
    "n=np.array(range(1,10))\n",
    "print(n)"
   ]
  },
  {
   "cell_type": "code",
   "execution_count": 16,
   "id": "4c8dd56e-cbb4-43b9-aa1b-194ad2d534b5",
   "metadata": {},
   "outputs": [
    {
     "name": "stdout",
     "output_type": "stream",
     "text": [
      "[4 5 6 7 8]\n"
     ]
    }
   ],
   "source": [
    "# print numpy array using range\n",
    "n=np.array(range(1,10))\n",
    "print(n[3:8])"
   ]
  },
  {
   "cell_type": "code",
   "execution_count": 44,
   "id": "375266a4-3cfb-4685-bba2-6e789f95fb97",
   "metadata": {},
   "outputs": [
    {
     "name": "stdout",
     "output_type": "stream",
     "text": [
      "[1 2 3 4 5 6 7 8 9]\n"
     ]
    }
   ],
   "source": [
    "# print numpy array using arange\n",
    "n=np.arange(1,10)\n",
    "print(n)"
   ]
  },
  {
   "cell_type": "code",
   "execution_count": 9,
   "id": "73db8a70-c227-46fa-9de0-8cfb037b74da",
   "metadata": {},
   "outputs": [
    {
     "name": "stdout",
     "output_type": "stream",
     "text": [
      "5 10 15 20 25 30 35 40 45 "
     ]
    }
   ],
   "source": [
    "# print numpy array using for loop\n",
    "import numpy as np\n",
    "\n",
    "l1 = [11, 22, 33, 44, 55, 66, 77, 88]\n",
    "array = np.array(l1)\n",
    "\n",
    "for i in range(len(array)):\n",
    "    print(array[i],end=\" \")\n"
   ]
  },
  {
   "cell_type": "code",
   "execution_count": 8,
   "id": "ce5b6fe3-02b6-4242-b308-891ee24ada9f",
   "metadata": {},
   "outputs": [
    {
     "name": "stdout",
     "output_type": "stream",
     "text": [
      "[0. 0. 0.]\n",
      "1\n",
      "[[0. 0. 0. 0.]\n",
      " [0. 0. 0. 0.]]\n",
      "2\n"
     ]
    }
   ],
   "source": [
    "# print zeros array of numpy\n",
    "n1=np.zeros(3)\n",
    "print(n1)\n",
    "print(n1.ndim)\n",
    "# print zeros array of numpy by row and columns\n",
    "n=np.zeros((2,4))\n",
    "print(n)\n",
    "print(n.ndim)\n",
    "# Two rows\n",
    "# Four column"
   ]
  },
  {
   "cell_type": "code",
   "execution_count": 9,
   "id": "3ecc9adc-8f5d-455b-8b22-b70c6ce0b01e",
   "metadata": {},
   "outputs": [
    {
     "name": "stdout",
     "output_type": "stream",
     "text": [
      "[1. 1. 1. 1. 1. 1. 1. 1. 1. 1.]\n",
      "[[1. 1. 1. 1.]\n",
      " [1. 1. 1. 1.]\n",
      " [1. 1. 1. 1.]]\n",
      "<class 'numpy.ndarray'>\n"
     ]
    }
   ],
   "source": [
    "# print ones array of numpy\n",
    "n=np.ones(10)\n",
    "print(n)\n",
    "# print ones array of numpy by row and columns\n",
    "n=np.ones((3,4))\n",
    "print(n)\n",
    "print(type(n))\n",
    "# Three rows\n",
    "# Four column"
   ]
  },
  {
   "cell_type": "code",
   "execution_count": 11,
   "id": "d8a6961a-dfb6-4d41-a96a-40a1f4159ae3",
   "metadata": {},
   "outputs": [
    {
     "name": "stdout",
     "output_type": "stream",
     "text": [
      "[1. 1. 1. 1. 1. 1. 1. 1. 1. 1.]\n",
      "[[1. 1. 1. 1.]\n",
      " [1. 1. 1. 1.]\n",
      " [1. 1. 1. 1.]]\n",
      "<class 'numpy.ndarray'>\n"
     ]
    }
   ],
   "source": [
    "# print ones array of numpy\n",
    "n=np.ones(10)\n",
    "print(n)\n",
    "# print ones array of numpy by row and columns\n",
    "n=np.ones((3,4))\n",
    "print(n)\n",
    "print(type(n))\n",
    "# Three rows\n",
    "# Four column"
   ]
  },
  {
   "cell_type": "code",
   "execution_count": 13,
   "id": "d5d03cca-74ab-408e-bd12-d0a465b0c014",
   "metadata": {},
   "outputs": [
    {
     "name": "stdout",
     "output_type": "stream",
     "text": [
      "[[1. 0. 0. 0. 0.]\n",
      " [0. 1. 0. 0. 0.]\n",
      " [0. 0. 1. 0. 0.]\n",
      " [0. 0. 0. 1. 0.]\n",
      " [0. 0. 0. 0. 1.]]\n"
     ]
    }
   ],
   "source": [
    "n=np.eye(5)\n",
    "print(n)\n",
    "# Identity matrix\n",
    "# Ones of diagonal with Zeros"
   ]
  },
  {
   "cell_type": "code",
   "execution_count": 19,
   "id": "d49af139-c9f6-496d-923b-757f0cb90e83",
   "metadata": {},
   "outputs": [
    {
     "name": "stdout",
     "output_type": "stream",
     "text": [
      "Data Type :  int32\n",
      "[11 22 33 55]\n",
      "\n",
      "Data Type :  float32\n",
      "[11. 22. 33. 55.]\n",
      "\n",
      "Data Type :  float64\n",
      "[3.5 6.7]\n",
      "\n",
      "Data Type :  int32\n",
      "[3 6]\n",
      "\n",
      "Data Type :  <U2\n",
      "['bj' 'dj' 'mj']\n",
      "\n",
      "Data Type :  <U32\n",
      "['11' '2.5' 'bj']\n"
     ]
    }
   ],
   "source": [
    "# Check Datatype of array and how to change datatype of array\n",
    "n=np.array([11,22,33,55])\n",
    "print(\"Data Type : \",n.dtype)\n",
    "print(n)\n",
    "print()\n",
    "n1=np.array([11,22,33,55],dtype='f')\n",
    "print(\"Data Type : \",n1.dtype)\n",
    "print(n1)\n",
    "print()\n",
    "m=np.array([3.5,6.7])\n",
    "print(\"Data Type : \",m.dtype)\n",
    "print(m)\n",
    "print()\n",
    "m1=np.array([3.5,6.7],dtype='i')\n",
    "print(\"Data Type : \",m1.dtype)\n",
    "print(m1)\n",
    "print()\n",
    "p=np.array(['bj','dj','mj'])\n",
    "print(\"Data Type : \",p.dtype)\n",
    "print(p)\n",
    "print()\n",
    "q=np.array([11,2.5,\"bj\"])\n",
    "print(\"Data Type : \",q.dtype)\n",
    "print(q)"
   ]
  },
  {
   "cell_type": "code",
   "execution_count": 45,
   "id": "978e87a5-883e-47ae-a60b-aae0c8922953",
   "metadata": {},
   "outputs": [
    {
     "name": "stdout",
     "output_type": "stream",
     "text": [
      "Data Type : float32\n",
      "[1. 2. 3. 4. 5. 6.]\n"
     ]
    }
   ],
   "source": [
    "# Data type conversion\n",
    "n=np.array([1,2,3,4,5,6],dtype=\"f\")\n",
    "print(\"Data Type :\",n.dtype)\n",
    "print(n)"
   ]
  },
  {
   "cell_type": "markdown",
   "id": "0240a238-aea4-4392-9328-ea216a241b6e",
   "metadata": {},
   "source": [
    "#  Shape And Reshape"
   ]
  },
  {
   "cell_type": "code",
   "execution_count": 20,
   "id": "069f907b-03eb-42e3-8852-082aa5c91fc8",
   "metadata": {},
   "outputs": [
    {
     "name": "stdout",
     "output_type": "stream",
     "text": [
      "[1 2 3]\n",
      "(3,)\n"
     ]
    }
   ],
   "source": [
    "n=np.array([1,2,3])\n",
    "print(n)\n",
    "print(n.shape)"
   ]
  },
  {
   "cell_type": "code",
   "execution_count": 51,
   "id": "32eac332-d758-4591-816b-030d3fb498a0",
   "metadata": {},
   "outputs": [
    {
     "name": "stdout",
     "output_type": "stream",
     "text": [
      "[[1 2 3]\n",
      " [3 4 6]]\n",
      "number of rows and columns:  (2, 3)\n"
     ]
    }
   ],
   "source": [
    "#Shape\n",
    "n=np.array([[1,2,3],[3,4,6]])\n",
    "print(n)\n",
    "print(\"number of rows and columns: \",n.shape)\n",
    "# The output  (2,3) represent TWO rows and THREE column"
   ]
  },
  {
   "cell_type": "code",
   "execution_count": 21,
   "id": "e650337b-509d-4fce-ae15-fd5647022a6c",
   "metadata": {},
   "outputs": [
    {
     "name": "stdout",
     "output_type": "stream",
     "text": [
      "[[1 2 3 4]\n",
      " [3 4 6 7]]\n",
      "number of rows and columns:  (2, 4)\n"
     ]
    }
   ],
   "source": [
    "#Shape\n",
    "n=np.array([[1,2,3,4],[3,4,6,7]])\n",
    "print(n)\n",
    "print(\"number of rows and columns: \",n.shape)\n",
    "# The output  (2,3) represent TWO rows and THREE column"
   ]
  },
  {
   "cell_type": "code",
   "execution_count": 26,
   "id": "7407a863-8b65-40dd-9bed-2d0304e41118",
   "metadata": {},
   "outputs": [
    {
     "name": "stdout",
     "output_type": "stream",
     "text": [
      "[1 2 3 4 5 6]\n",
      "[[1 2]\n",
      " [3 4]\n",
      " [5 6]]\n"
     ]
    }
   ],
   "source": [
    "n=np.array([1,2,3,4,5,6])\n",
    "print(n)\n",
    "print(n.reshape(3,2))\n",
    "#Convert array of 6 elements from 1 to 6 TO 3 rows and 2 columns\n",
    "# reshape(3,2) represent three rows and two columns"
   ]
  },
  {
   "cell_type": "code",
   "execution_count": 97,
   "id": "60c75521-c1c9-47a3-995a-fb13406dfb69",
   "metadata": {},
   "outputs": [
    {
     "name": "stdout",
     "output_type": "stream",
     "text": [
      "[[ 1  2  3]\n",
      " [ 4  5  6]\n",
      " [ 7  8  9]\n",
      " [10 11 12]]\n"
     ]
    }
   ],
   "source": [
    "n=np.arange(1,13)\n",
    "print(n.reshape(4,3))\n",
    "#Convert array of 12 elements from 1 to 12 TO 4 rows and 3 columns\n",
    "# reshape(4,3) represent three rows and two columns"
   ]
  },
  {
   "cell_type": "code",
   "execution_count": 68,
   "id": "6b09c4e8-3ed8-4d0f-b342-12afd8c0ad25",
   "metadata": {},
   "outputs": [
    {
     "name": "stdout",
     "output_type": "stream",
     "text": [
      "[1 2 3 4 5 6 7 8 9]\n",
      "\n",
      "number of rows and columns:  [[1 2 3]\n",
      " [4 5 6]\n",
      " [7 8 9]]\n"
     ]
    }
   ],
   "source": [
    "n=np.array(range(1,10))\n",
    "print(n)\n",
    "print()\n",
    "print(\"number of rows and columns: \" , n.reshape(3,3))"
   ]
  },
  {
   "cell_type": "code",
   "execution_count": 28,
   "id": "3ba8dc1a-aa67-4098-a070-3b0367347159",
   "metadata": {},
   "outputs": [
    {
     "name": "stdout",
     "output_type": "stream",
     "text": [
      "[ 0  1  2  3  4  5  6  7  8  9 10 11 12 13 14 15 16 17 18 19]\n",
      "\n",
      "number of rows=4 and columns=5\n",
      "[[ 0  1  2  3  4]\n",
      " [ 5  6  7  8  9]\n",
      " [10 11 12 13 14]\n",
      " [15 16 17 18 19]]\n"
     ]
    }
   ],
   "source": [
    "n=np.array(range(20))\n",
    "print(n)\n",
    "print()\n",
    "print(\"number of rows=4 and columns=5\")\n",
    "print(n.reshape(4,5))"
   ]
  },
  {
   "cell_type": "code",
   "execution_count": 33,
   "id": "14cbdec1-f36b-4586-af2b-1dd4e54a14d4",
   "metadata": {},
   "outputs": [
    {
     "name": "stdout",
     "output_type": "stream",
     "text": [
      "[20 22 24 26 28 30 32 34 36 38 40 42]\n",
      "\n",
      "[[20 22 24]\n",
      " [26 28 30]\n",
      " [32 34 36]\n",
      " [38 40 42]]\n"
     ]
    }
   ],
   "source": [
    "n=np.array(range(20,44,2))\n",
    "print(n)\n",
    "print()\n",
    "\n",
    "print(n.reshape(4,3))"
   ]
  },
  {
   "cell_type": "markdown",
   "id": "7b4c6762-f9d9-4a57-ab63-a86af38b5de8",
   "metadata": {},
   "source": [
    "# Arithmatic Operation"
   ]
  },
  {
   "cell_type": "code",
   "execution_count": 65,
   "id": "354dd624-c463-4cc3-8011-eb0cc457b23b",
   "metadata": {},
   "outputs": [
    {
     "name": "stdout",
     "output_type": "stream",
     "text": [
      "ADDITION:  [4 5 6]\n",
      "SUSTRACTION:  [-2 -1  0]\n",
      "MULTIPLICATION:  [3 6 9]\n",
      "DIVISION:  [0.33333333 0.66666667 1.        ]\n",
      "POWER:  [ 1  8 27]\n",
      "MOD:  [1 2 0]\n"
     ]
    }
   ],
   "source": [
    "n1=np.array([1,2,3])\n",
    "print(\"ADDITION: \",n1+3)\n",
    "print(\"SUSTRACTION: \",n1-3)\n",
    "print(\"MULTIPLICATION: \",n1*3)\n",
    "print(\"DIVISION: \",n1/3)\n",
    "print(\"POWER: \",n1**3)\n",
    "print(\"MOD: \",n1%3)\n"
   ]
  },
  {
   "cell_type": "code",
   "execution_count": 73,
   "id": "cb7ee017-b40f-4194-b801-7ebd2b2768f7",
   "metadata": {},
   "outputs": [
    {
     "name": "stdout",
     "output_type": "stream",
     "text": [
      "[9 5 9]\n",
      "[-7 -1 -3]\n",
      "[ 8  6 18]\n",
      "[0.125      0.66666667 0.5       ]\n",
      "[  1   8 729]\n",
      "[1 2 3]\n"
     ]
    }
   ],
   "source": [
    "n1=np.array([1,2,3])\n",
    "n2=np.array([8,3,6])\n",
    "print(n1+n2)\n",
    "print(n1-n2)\n",
    "print(n1*n2)\n",
    "print(n1/n2)\n",
    "print(n1**n2)\n",
    "print(n1%n2)"
   ]
  },
  {
   "cell_type": "code",
   "execution_count": 71,
   "id": "289f43e9-13b7-4b6f-8468-0c5e6c0a3370",
   "metadata": {},
   "outputs": [
    {
     "name": "stdout",
     "output_type": "stream",
     "text": [
      "[6 7 8]\n",
      "[-4 -3 -2]\n",
      "[ 5 10 15]\n",
      "[0.2 0.4 0.6]\n",
      "[  1  32 243]\n",
      "[1 2 3]\n"
     ]
    }
   ],
   "source": [
    "n1=np.array([1,2,3])\n",
    "print(np.add(n1,5))\n",
    "print(np.subtract(n1,5))\n",
    "print(np.multiply(n1,5))\n",
    "print(np.divide(n1,5))\n",
    "print(np.power(n1,5))\n",
    "print(np.mod(n1,5))\n"
   ]
  },
  {
   "cell_type": "code",
   "execution_count": 72,
   "id": "4d12d2f9-5637-49fb-80d1-aac2e56f8bd2",
   "metadata": {},
   "outputs": [
    {
     "name": "stdout",
     "output_type": "stream",
     "text": [
      "[5 7 9]\n",
      "[-3 -3 -3]\n",
      "[ 4 10 18]\n",
      "[0.25 0.4  0.5 ]\n",
      "[  1  32 729]\n",
      "[1 2 3]\n"
     ]
    }
   ],
   "source": [
    "n1=np.array([1,2,3])\n",
    "n2=np.array([4,5,6])\n",
    "print(np.add(n1,n2))\n",
    "print(np.subtract(n1,n2))\n",
    "print(np.multiply(n1,n2))\n",
    "print(np.divide(n1,n2))\n",
    "print(np.power(n1,n2))\n",
    "print(np.mod(n1,n2))"
   ]
  },
  {
   "cell_type": "code",
   "execution_count": 86,
   "id": "300acff7-55ad-4cfa-bb68-b0ae05e865aa",
   "metadata": {},
   "outputs": [
    {
     "name": "stdout",
     "output_type": "stream",
     "text": [
      "[ 4  5  6  7  8  9 10]\n",
      "[-4 -3 -2 -1  0  1  2]\n",
      "[ 0  4  8 12 16 20 24]\n",
      "[0.   0.25 0.5  0.75 1.   1.25 1.5 ]\n",
      "[   0    1   16   81  256  625 1296]\n",
      "[0 1 2 3 0 1 2]\n"
     ]
    }
   ],
   "source": [
    "n=np.array(range(7))\n",
    "print(np.add(n,4))\n",
    "print(np.subtract(n,4))\n",
    "print(np.multiply(n,4))\n",
    "print(np.divide(n,4))\n",
    "print(np.power(n,4))\n",
    "print(np.mod(n,4))"
   ]
  },
  {
   "cell_type": "code",
   "execution_count": 88,
   "id": "1d337c94-f127-4b35-ab36-5c57e96258ee",
   "metadata": {},
   "outputs": [
    {
     "name": "stdout",
     "output_type": "stream",
     "text": [
      "[4 5 6]\n",
      "[-4 -3 -2]\n",
      "[0 4 8]\n",
      "[0.   0.25 0.5 ]\n",
      "[ 0  1 16]\n",
      "[0 1 2]\n"
     ]
    }
   ],
   "source": [
    "n=np.arange(3)\n",
    "print(np.add(n,4))\n",
    "print(np.subtract(n,4))\n",
    "print(np.multiply(n,4))\n",
    "print(np.divide(n,4))\n",
    "print(np.power(n,4))\n",
    "print(np.mod(n,4))"
   ]
  },
  {
   "cell_type": "code",
   "execution_count": 100,
   "id": "f96cb93a-99b3-4b96-b8b4-68ae3694b490",
   "metadata": {},
   "outputs": [
    {
     "name": "stdout",
     "output_type": "stream",
     "text": [
      "[2 4 6 8]\n",
      "[ 3  6  9 12]\n"
     ]
    }
   ],
   "source": [
    "n1=np.array(range(1,5))\n",
    "n2=np.array(range(2,10,2))\n",
    "print(n2)\n",
    "print(np.add(n1,n2))"
   ]
  },
  {
   "cell_type": "code",
   "execution_count": 103,
   "id": "2d87a079-3eca-49f2-a619-90078636e9fa",
   "metadata": {},
   "outputs": [
    {
     "name": "stdout",
     "output_type": "stream",
     "text": [
      "[2 4 6 8]\n",
      "[ 3  6  9 12]\n"
     ]
    }
   ],
   "source": [
    "n1=np.arange(1,5)\n",
    "n2=np.arange(2,10,2)\n",
    "print(n2)\n",
    "print(np.add(n1,n2))"
   ]
  },
  {
   "cell_type": "code",
   "execution_count": 63,
   "id": "987cfa33-d96a-4f83-b29a-57816d30ed47",
   "metadata": {},
   "outputs": [
    {
     "name": "stdout",
     "output_type": "stream",
     "text": [
      "2\n",
      "11\n",
      "[1.73205081 1.41421356 2.64575131 3.31662479 3.         3.16227766]\n",
      "[ 0.14112001  0.90929743  0.6569866  -0.99999021  0.41211849 -0.54402111]\n",
      "[-0.9899925  -0.41614684  0.75390225  0.0044257  -0.91113026 -0.83907153]\n",
      "2 1\n",
      "11 3\n",
      "[ 1  3  6 10 15]\n"
     ]
    }
   ],
   "source": [
    "# Arithmatic Function\n",
    "n1=np.array([3,2,7,11,9,10])\n",
    "print(np.min(n1))\n",
    "print(np.max(n1))\n",
    "print(np.sqrt(n1))\n",
    "print(np.sin(n1))\n",
    "print(np.cos(n1))\n",
    "print(np.min(n1),np.argmin(n1)) # min value and their location\n",
    "print(np.max(n1),np.argmax(n1))  # max value and their location\n",
    "n2=np.array([1,2,3,4,5])\n",
    "print(np.cumsum(n2))\n",
    "# cumsum function means o/p is 1,1+2=3,3+3=6,6+4=10,10+5=15 "
   ]
  },
  {
   "cell_type": "code",
   "execution_count": 64,
   "id": "97858c5f-a535-4dc0-b1e0-31e436338744",
   "metadata": {},
   "outputs": [
    {
     "name": "stdout",
     "output_type": "stream",
     "text": [
      "[[2 1 3]\n",
      " [9 5 6]]\n",
      "[1 5]\n",
      "[2 1 3]\n",
      "\n",
      "[3 9]\n",
      "[9 5 6]\n",
      "2\n",
      "1\n",
      "3\n",
      "9\n",
      "5\n",
      "6\n"
     ]
    }
   ],
   "source": [
    "n1=np.array([[2,1,3],[9,5,6]])\n",
    "print(n1)\n",
    "print(np.min(n1,axis=1))\n",
    "print(np.min(n1,axis=0))\n",
    "print()\n",
    "print(np.max(n1,axis=1))\n",
    "print(np.max(n1,axis=0))\n",
    "print(n1[0,0]) # 0 indicate zeroth row and 0 indicate zeroth column \n",
    "print(n1[0,1]) # 0 indicate zeroth row and 1 indicate zeroth column\n",
    "print(n1[0,2]) # 0 indicate zeroth row and 2 indicate zeroth column\n",
    "print(n1[1,0]) # 1 indicate zeroth row and 0 indicate zeroth column\n",
    "print(n1[1,1]) # 1 indicate zeroth row and 1 indicate zeroth column\n",
    "print(n1[1,2]) # 1 indicate zeroth row and 2 indicate zeroth column\n",
    "# axis=1 means ROWS\n",
    "# axis=0 means COLUMNS"
   ]
  },
  {
   "cell_type": "markdown",
   "id": "e55384bb-7ac5-442f-b18e-7eb8a6cdabfe",
   "metadata": {},
   "source": [
    "# linsspace array in numpy"
   ]
  },
  {
   "cell_type": "code",
   "execution_count": 21,
   "id": "bfda9f96-92f0-4100-93e4-6a7f340999ad",
   "metadata": {},
   "outputs": [
    {
     "name": "stdout",
     "output_type": "stream",
     "text": [
      "[ 1.    3.25  5.5   7.75 10.  ]\n"
     ]
    }
   ],
   "source": [
    "# linsspace array\n",
    "# Create array with values that are spaced linearly in a specified interval\n",
    "n=np.linspace(1,10,5)\n",
    "print(n)\n",
    "# Explain of linspace(1,10,5)\n",
    "# 1 means Start of array\n",
    "# 10 means last values 1 to 10\n",
    "# 5 means 5 time print 5 number of space linearly\n",
    "# The difference is from 1 to 3.25 is \"2.25\" and so all same difference 3.25 to 5.5 is also 2.25\n",
    "# (1,10,5) means (start,end,how many times)"
   ]
  },
  {
   "cell_type": "code",
   "execution_count": 27,
   "id": "b6eec0d7-5c08-4f60-9f00-96e1ce110c3c",
   "metadata": {},
   "outputs": [
    {
     "name": "stdout",
     "output_type": "stream",
     "text": [
      "[ 1.  2.  3.  4.  5.  6.  7.  8.  9. 10.]\n"
     ]
    }
   ],
   "source": [
    "n=np.linspace(1,10,10)\n",
    "print(n)"
   ]
  },
  {
   "cell_type": "code",
   "execution_count": 47,
   "id": "3f4ab9a6-f60c-4723-8953-6df0a0c6b111",
   "metadata": {},
   "outputs": [
    {
     "name": "stdout",
     "output_type": "stream",
     "text": [
      "[ 1.    5.75 10.5  15.25 20.  ]\n"
     ]
    }
   ],
   "source": [
    "n=np.linspace(1,20,5)\n",
    "print(n)"
   ]
  },
  {
   "cell_type": "code",
   "execution_count": 29,
   "id": "cce6a51a-b2f4-4fbe-be79-190b2df82a58",
   "metadata": {},
   "outputs": [
    {
     "name": "stdout",
     "output_type": "stream",
     "text": [
      "[ 1.  10.5 20. ]\n"
     ]
    }
   ],
   "source": [
    "n=np.linspace(1,20,3)\n",
    "print(n)"
   ]
  },
  {
   "cell_type": "code",
   "execution_count": 30,
   "id": "8c48099a-0f0b-4239-8fbd-208352c6a5b4",
   "metadata": {},
   "outputs": [
    {
     "name": "stdout",
     "output_type": "stream",
     "text": [
      "[ 5.          6.42857143  7.85714286  9.28571429 10.71428571 12.14285714\n",
      " 13.57142857 15.         16.42857143 17.85714286 19.28571429 20.71428571\n",
      " 22.14285714 23.57142857 25.        ]\n"
     ]
    }
   ],
   "source": [
    "n=np.linspace(5,25,15)\n",
    "print(n)"
   ]
  },
  {
   "cell_type": "markdown",
   "id": "1f4d0e3b-4428-4fc6-a3af-1473962924a7",
   "metadata": {},
   "source": [
    "# Random numbers array in numpy "
   ]
  },
  {
   "cell_type": "code",
   "execution_count": 144,
   "id": "ab672880-3eaf-46db-8da2-5c8d9f862633",
   "metadata": {},
   "outputs": [
    {
     "name": "stdout",
     "output_type": "stream",
     "text": [
      "[[0.40522978 0.74508944 0.20444844]\n",
      " [0.51875733 0.48661222 0.29740958]]\n",
      "\n",
      "[[0.51226283 0.59734257 0.85854688]\n",
      " [0.28342587 0.59783304 0.95362629]\n",
      " [0.80854711 0.82338347 0.50476149]\n",
      " [0.62865139 0.64539779 0.11824951]]\n"
     ]
    }
   ],
   "source": [
    "# 1> random() Create a row*column like 2*3 and  array of random values\n",
    "n=np.random.random((2, 3))\n",
    "n1=np.random.random((4, 3))\n",
    "print( n)\n",
    "print()\n",
    "print(n1)\n"
   ]
  },
  {
   "cell_type": "code",
   "execution_count": 3,
   "id": "2b7dd456-8801-46ca-8bba-41eeb29ed976",
   "metadata": {},
   "outputs": [
    {
     "name": "stdout",
     "output_type": "stream",
     "text": [
      "[0.34059173 0.72734913 0.49317601 0.18279084]\n"
     ]
    }
   ],
   "source": [
    "# 2> rand() function to generate values between 0 to 1\n",
    "n1=np.random.rand(4)\n",
    "print(n1)"
   ]
  },
  {
   "cell_type": "code",
   "execution_count": 4,
   "id": "fe094f3a-d327-4b08-994b-510452943dce",
   "metadata": {},
   "outputs": [
    {
     "name": "stdout",
     "output_type": "stream",
     "text": [
      "[0.38340694]\n"
     ]
    }
   ],
   "source": [
    "n1=np.random.rand(1)\n",
    "print(n1)"
   ]
  },
  {
   "cell_type": "code",
   "execution_count": 5,
   "id": "7f236882-c6d4-4944-96cd-d2ba32ae19db",
   "metadata": {},
   "outputs": [
    {
     "name": "stdout",
     "output_type": "stream",
     "text": [
      "[0.86980759 0.77975704 0.58856595 0.46075877 0.82714024 0.61954281]\n"
     ]
    }
   ],
   "source": [
    "n1=np.random.rand(6)\n",
    "print(n1)"
   ]
  },
  {
   "cell_type": "code",
   "execution_count": 15,
   "id": "a82186b9-67dc-4692-910a-8275feb095b5",
   "metadata": {},
   "outputs": [
    {
     "name": "stdout",
     "output_type": "stream",
     "text": [
      "[-1.02771811  0.9372577   1.03994518]\n"
     ]
    }
   ],
   "source": [
    "# 3> randn() this function to generate values close to ZERO value may be positive or negative\n",
    "n1=np.random.randn(3)\n",
    "print(n1)"
   ]
  },
  {
   "cell_type": "code",
   "execution_count": 94,
   "id": "67751dfe-6eea-47ae-8540-7959c54aed73",
   "metadata": {},
   "outputs": [
    {
     "name": "stdout",
     "output_type": "stream",
     "text": [
      "[0.41647629 0.1792238  0.01849819 0.50497742 0.25856047]\n"
     ]
    }
   ],
   "source": [
    "# 4> randf() this function to generate values [0.0 , 1.0]\n",
    "n1=np.random.ranf(5)\n",
    "print(n1)"
   ]
  },
  {
   "cell_type": "code",
   "execution_count": 105,
   "id": "f802f427-fb36-47cd-81e6-12dd5d186a6b",
   "metadata": {},
   "outputs": [
    {
     "name": "stdout",
     "output_type": "stream",
     "text": [
      "[0.25537269 0.70036906 0.23911562]\n"
     ]
    }
   ],
   "source": [
    "n1=np.random.ranf(3)\n",
    "print(n1)"
   ]
  },
  {
   "cell_type": "code",
   "execution_count": 137,
   "id": "62f2eefe-6c71-489a-9494-ec7c22734dab",
   "metadata": {},
   "outputs": [
    {
     "name": "stdout",
     "output_type": "stream",
     "text": [
      "[2 8 8 2 3 2]\n"
     ]
    }
   ],
   "source": [
    "# 5> this function use to generate a value in the range\n",
    "n1=np.random.randint(0,10,6)\n",
    "print(n1)"
   ]
  },
  {
   "cell_type": "code",
   "execution_count": 161,
   "id": "a82c30bc-8ef1-47cd-8563-65c3102410fb",
   "metadata": {},
   "outputs": [
    {
     "name": "stdout",
     "output_type": "stream",
     "text": [
      "[2 3 1]\n"
     ]
    }
   ],
   "source": [
    "n1=np.random.randint(0,5,3)\n",
    "print(n1)"
   ]
  },
  {
   "cell_type": "code",
   "execution_count": 167,
   "id": "5d90170f-62b0-4379-aa9f-4d93d141d1ef",
   "metadata": {},
   "outputs": [
    {
     "name": "stdout",
     "output_type": "stream",
     "text": [
      "[16 15 16 13]\n"
     ]
    }
   ],
   "source": [
    "n1=np.random.randint(11,18,4)\n",
    "print(n1)"
   ]
  },
  {
   "cell_type": "markdown",
   "id": "c4767569-aa96-4297-b7ce-e4d822a8ea9f",
   "metadata": {},
   "source": [
    "# Generate OPT using randint function in numpy"
   ]
  },
  {
   "cell_type": "code",
   "execution_count": 20,
   "id": "3331911b-bd7b-4277-b686-7f9474547684",
   "metadata": {},
   "outputs": [
    {
     "name": "stdout",
     "output_type": "stream",
     "text": [
      "319530\n"
     ]
    }
   ],
   "source": [
    "otp=np.random.randint(0,10,6)\n",
    "otp=\"\".join(map(str,np.random.randint(0,10,6)))\n",
    "print(otp)"
   ]
  },
  {
   "cell_type": "markdown",
   "id": "9294e744-920d-4450-a1b1-1feffa9c475e",
   "metadata": {},
   "source": [
    "# Join & Split"
   ]
  },
  {
   "cell_type": "code",
   "execution_count": 26,
   "id": "96ac7323-1911-452f-8d21-ed8b63d8247a",
   "metadata": {},
   "outputs": [
    {
     "name": "stdout",
     "output_type": "stream",
     "text": [
      "[ 1  2  3  4  5  6  7  8 11 22 33 44 55 66 77 88]\n",
      "[11 22 33 44 55 66 77 88  1  2  3  4  5  6  7  8]\n",
      "\n",
      "[[ 1  2  3  9  8  7]\n",
      " [11 22 33 99 88 77]]\n",
      "(2, 3)\n",
      "2\n",
      "\n",
      "[[ 1  2  3]\n",
      " [11 22 33]\n",
      " [ 9  8  7]\n",
      " [99 88 77]]\n"
     ]
    }
   ],
   "source": [
    "# Join\n",
    "#join function is used to concate two array in a single array\n",
    "n=np.array([1,2,3,4,5,6,7,8])\n",
    "n1=np.array([11,22,33,44,55,66,77,88])\n",
    "n3=np.concatenate((n,n1),axis=0)\n",
    "n33=np.concatenate((n1,n))\n",
    "print(n3)\n",
    "print(n33)\n",
    "print()\n",
    "\n",
    "n4=np.array([[1,2,3],[11,22,33]])\n",
    "n5=np.array([[9,8,7],[99,88,77]])\n",
    "n6=np.concatenate((n4,n5),axis=1) #axis=1 denote row\n",
    "print(n6)\n",
    "print(n4.shape)\n",
    "print(n4.ndim)\n",
    "print()\n",
    "\n",
    "n7=np.array([[1,2,3],[11,22,33]])\n",
    "n8=np.array([[9,8,7],[99,88,77]])\n",
    "n9=np.concatenate((n4,n5),axis=0)   #axis=0 denote column\n",
    "print(n9)\n"
   ]
  },
  {
   "cell_type": "code",
   "execution_count": 40,
   "id": "a9138dac-d144-4dc8-8000-2620787cd378",
   "metadata": {},
   "outputs": [
    {
     "name": "stdout",
     "output_type": "stream",
     "text": [
      "[[ 1  3  5  7  9]\n",
      " [11 13 15 17 19]]\n",
      "\n",
      "[ 1  3  5  7  9 11 13 15 17 19]\n",
      "[ 1  3  5  7  9 11 13 15 17 19]\n",
      "\n",
      "[[ 1  3  5  7  9]\n",
      " [11 13 15 17 19]]\n",
      "\n",
      "[[[ 1 11]\n",
      "  [ 3 13]\n",
      "  [ 5 15]\n",
      "  [ 7 17]\n",
      "  [ 9 19]]]\n",
      "\n"
     ]
    }
   ],
   "source": [
    "# some additional future of join\n",
    "#1 stack axis wise\n",
    "#2 hstack row\n",
    "#3 vstack column\n",
    "#4 dstack height\n",
    "\n",
    "n1=np.arange(1,10,2)\n",
    "n2=np.arange(11,20,2)\n",
    "x1=np.stack((n1,n2))\n",
    "x2=np.hstack((n1,n2)) # same work convert single array \n",
    "x=np.concatenate((n1,n2))# same work convert single array\n",
    "x3=np.vstack((n1,n2))\n",
    "x4=np.dstack((n1,n2))\n",
    "print(x1)\n",
    "print()\n",
    "print(x2)\n",
    "print(x)\n",
    "print()\n",
    "print(x3)\n",
    "print()\n",
    "print(x4)\n",
    "print()"
   ]
  },
  {
   "cell_type": "code",
   "execution_count": 56,
   "id": "6b948228-c276-4daa-a08a-831826dded4b",
   "metadata": {},
   "outputs": [
    {
     "name": "stdout",
     "output_type": "stream",
     "text": [
      "[array([1, 2, 3]), array([4, 5, 6]), array([7, 8, 9])]\n",
      "[array([1, 2, 3]), array([4, 5, 6])]\n",
      "[array([1, 2]), array([3, 4]), array([5, 6])]\n",
      "[array([1]), array([2]), array([3]), array([4]), array([5]), array([6])]\n",
      "[array([1]), array([2]), array([3]), array([4]), array([5]), array([6]), array([], dtype=int32)]\n",
      "[array([1, 2, 3, 4, 5, 6])]\n"
     ]
    }
   ],
   "source": [
    "#Split\n",
    "#split function used to break the one array into multiple array\n",
    "n1=np.array(range(1,10))\n",
    "n2=np.array(range(1,7))\n",
    "x1=np.array_split(n1,3)\n",
    "x2=np.array_split(n2,2)\n",
    "x3=np.array_split(n2,3)\n",
    "x4=np.array_split(n2,6)\n",
    "x5=np.array_split(n2,7)\n",
    "x6=np.array_split(n2,1)\n",
    "print(x1)\n",
    "print(x2)\n",
    "print(x3)\n",
    "print(x4)\n",
    "print(x5)\n",
    "print(x6)"
   ]
  },
  {
   "cell_type": "markdown",
   "id": "72ee7d58-be0f-46a1-a564-c49e43df688c",
   "metadata": {},
   "source": [
    "# Search,sort,search sorted,filter function in numpy"
   ]
  },
  {
   "cell_type": "code",
   "execution_count": 70,
   "id": "3f09a9bb-6122-4218-814a-6abbb49bf5cf",
   "metadata": {},
   "outputs": [
    {
     "name": "stdout",
     "output_type": "stream",
     "text": [
      "(array([ 2, 12, 16, 20, 22], dtype=int64),)\n",
      "\n",
      "(array([14, 17], dtype=int64),)\n",
      "\n",
      "(array([ 1,  3,  5,  6,  9, 11, 13, 15, 18, 19, 21], dtype=int64),)\n",
      "23\n",
      "\n",
      "\n",
      "[[0]\n",
      " [1]\n",
      " [2]\n",
      " [3]\n",
      " [5]\n",
      " [6]\n",
      " [8]]\n"
     ]
    }
   ],
   "source": [
    "#1 Search -: search an array for a certain value and return the index that get a match\n",
    "n=np.array([1,2,3,4,11,2,44,11,5,22,1,4,3,12,133,11,3,1135,6,32,3,4,3])\n",
    "n1=np.array([1,2,3,4,11,2,44,11,5,22,1,0,3,12,133,0,3,1135,6,32,3,4,3])\n",
    "print(np.where(n==3))\n",
    "print()\n",
    "x=np.where(n>100)  # return the index of n values that are greater than 100 \n",
    "print(x)\n",
    "print()\n",
    "x1=np.where(n1%2==0)  # return the index\n",
    "print(x1)\n",
    "print(len(n))\n",
    "print()\n",
    "print()\n",
    "\n",
    "n3=np.array([1,2,3,4,0,44,3,0,12])\n",
    "x4=np.argwhere(n3) # return non zero index\n",
    "print(x4)\n",
    "\n",
    "\n"
   ]
  },
  {
   "cell_type": "code",
   "execution_count": 74,
   "id": "a020c750-a972-4904-94e8-ab3b8f99791a",
   "metadata": {},
   "outputs": [
    {
     "name": "stdout",
     "output_type": "stream",
     "text": [
      "4\n",
      "[11 16 21 26 31 36 41 46]\n",
      "7\n"
     ]
    }
   ],
   "source": [
    "#2 Search sorted\n",
    "# search sorted :- This function is useful for searching within continue with below line\n",
    "#  a sorted array and finding the position where new elements should be inserted to maintain the sorted order.\n",
    "\n",
    "n=np.array([11,22,33,44,55,66,77,88,99])\n",
    "n1=np.searchsorted(n,50)\n",
    "print(n1)\n",
    "n2=np.arange(11,50,5)\n",
    "print(n2)\n",
    "x1=np.searchsorted(n2,42)\n",
    "print(x1)"
   ]
  },
  {
   "cell_type": "code",
   "execution_count": 106,
   "id": "a19e9761-1ed1-4c66-96b4-53e16a0e0b5b",
   "metadata": {},
   "outputs": [
    {
     "name": "stdout",
     "output_type": "stream",
     "text": [
      "[100  99  98  97  96  95  94  93  92  91  90  89  88  87  86  85  84  83\n",
      "  82  81  80  79  78  77  76  75  74  73  72  71  70  69  68  67  66  65\n",
      "  64  63  62  61  60  59  58  57  56  55  54  53  52  51  50  49  48  47\n",
      "  46  45  44  43  42  41  40  39  38  37  36  35  34  33  32  31  30  29\n",
      "  28  27  26  25  24  23  22  21  20  19  18  17  16  15  14  13  12  11\n",
      "  10   9   8   7   6   5   4   3   2   1]\n",
      "\n",
      "[  1   2   3   4   5   6   7   8   9  10  11  12  13  14  15  16  17  18\n",
      "  19  20  21  22  23  24  25  26  27  28  29  30  31  32  33  34  35  36\n",
      "  37  38  39  40  41  42  43  44  45  46  47  48  49  50  51  52  53  54\n",
      "  55  56  57  58  59  60  61  62  63  64  65  66  67  68  69  70  71  72\n",
      "  73  74  75  76  77  78  79  80  81  82  83  84  85  86  87  88  89  90\n",
      "  91  92  93  94  95  96  97  98  99 100]\n",
      "\n",
      "[ 2  3  4  5 11 12 22 33 66]\n",
      "\n",
      "[[10  9  8]\n",
      " [ 7  6  5]\n",
      " [ 4  3  2]]\n",
      "\n",
      "[[ 8  9 10]\n",
      " [ 5  6  7]\n",
      " [ 2  3  4]]\n",
      "\n",
      "[[ 2  3  4]\n",
      " [ 1  5 12]\n",
      " [ 6 22 52]]\n"
     ]
    }
   ],
   "source": [
    "#Sort -: sort the given array in the linear order\n",
    "n=np.arange(100,0,-1)\n",
    "print(n)\n",
    "print()\n",
    "n1=np.sort(n)\n",
    "print(n1)\n",
    "print()\n",
    "n2=np.array([11,22,33,5,2,66,3,12,4])\n",
    "print(np.sort(n2))\n",
    "print()\n",
    "n5=np.arange(10,1,-1)\n",
    "n6=n5.reshape(3,3)\n",
    "print(n6)\n",
    "print()\n",
    "print(np.sort(n6))\n",
    "print()\n",
    "nn1=np.array([[4,2,3],[1,12,5],[22,52,6]])\n",
    "print(np.sort(nn1))"
   ]
  },
  {
   "cell_type": "code",
   "execution_count": 141,
   "id": "906708b7-3a6c-4276-8c5c-dfd3372ab0eb",
   "metadata": {},
   "outputs": [
    {
     "name": "stdout",
     "output_type": "stream",
     "text": [
      "[ 10  60 110 160 210 260 310 360 410 460 510 560 610 660 710 760 810 860\n",
      " 910 960]\n",
      "\n",
      "Filtered values =  [510 560 610 660 710 760 810 860 910 960]\n",
      "\n",
      "[510 560 610 660 710 760]\n"
     ]
    }
   ],
   "source": [
    "#Filter:- The filter function is not a direct function in NumPy using some numpy function according to condition filter in used\n",
    "n1=np.arange(10,1000,50)\n",
    "print(n1)\n",
    "print()\n",
    "filter_aar1=n1[n1>500]\n",
    "print(\"Filtered values = \",filter_aar)\n",
    "print()\n",
    "filter_arr2=n1[(n1>500) & (n1<800)]\n",
    "print(filter_arr2)\n"
   ]
  },
  {
   "cell_type": "code",
   "execution_count": 132,
   "id": "60df1188-64c4-4b70-8524-105d01181db8",
   "metadata": {},
   "outputs": [
    {
     "name": "stdout",
     "output_type": "stream",
     "text": [
      "[11, 22, 33, 44]\n",
      "Note the difference between both output. BY USING * AND NOT USING *\n",
      "11 22 33 44\n"
     ]
    }
   ],
   "source": [
    "l=[11,22,33,44]\n",
    "print(l)\n",
    "print(\"Note the difference between both output. BY USING * AND NOT USING *\")\n",
    "print(*l)\n",
    "# print(*l) this is correct show output without error\n",
    "# print(l*) this is incorrect show error"
   ]
  },
  {
   "cell_type": "markdown",
   "id": "899f45e2-eaa9-43b0-a1ec-82c487e9b139",
   "metadata": {},
   "source": [
    "# shuffle,unique,resize,flatten function of numpy"
   ]
  },
  {
   "cell_type": "code",
   "execution_count": 28,
   "id": "debc0fe5-fc15-42fe-9117-d60795688c6a",
   "metadata": {},
   "outputs": [
    {
     "name": "stdout",
     "output_type": "stream",
     "text": [
      "Original Array: [1 2 3 4 5 6 7 8]\n",
      "By using shuffle function print random values:  [6 4 2 1 5 7 8 3]\n"
     ]
    }
   ],
   "source": [
    "#1 shuffle\n",
    "# this function is used to print random values in the existing arraay\n",
    "n=np.array([1,2,3,4,5,6,7,8])\n",
    "print(\"Original Array:\",n)\n",
    "np.random.shuffle(n)\n",
    "print(\"By using shuffle function print random values: \",n)\n"
   ]
  },
  {
   "cell_type": "code",
   "execution_count": 31,
   "id": "828a100a-81eb-405b-8ab0-5b58343cbbbe",
   "metadata": {},
   "outputs": [
    {
     "name": "stdout",
     "output_type": "stream",
     "text": [
      "Original Array: [1 2 3 4 5 6 7 8]\n",
      "By using shuffle function print random values:  [7 1 3 5 4 6 8 2]\n"
     ]
    }
   ],
   "source": [
    "#1 shuffle\n",
    "# this function is used to print random values in the existing arraay\n",
    "n=np.array([1,2,3,4,5,6,7,8])\n",
    "print(\"Original Array:\",n)\n",
    "np.random.shuffle(n)\n",
    "print(\"By using shuffle function print random values: \",n)\n",
    "\n"
   ]
  },
  {
   "cell_type": "code",
   "execution_count": 35,
   "id": "b15e15d1-2b3a-4d63-bd3c-5eeff3316a41",
   "metadata": {},
   "outputs": [
    {
     "name": "stdout",
     "output_type": "stream",
     "text": [
      "14\n",
      "[ 1  2  3  5  7 44]\n",
      "6\n"
     ]
    }
   ],
   "source": [
    "#2 unique\n",
    "# this function use for print just unique values not repeated\n",
    "n1=np.array([1,2,3,44,5,2,1,5,3,7,2,3,44,5])\n",
    "print(len(n1))\n",
    "x=np.unique(n1)\n",
    "print(x)\n",
    "print(len(x))\n"
   ]
  },
  {
   "cell_type": "code",
   "execution_count": 45,
   "id": "d273d61d-3bf3-4831-8318-c98019584c34",
   "metadata": {},
   "outputs": [
    {
     "name": "stdout",
     "output_type": "stream",
     "text": [
      "[[1 2 3]\n",
      " [4 5 6]\n",
      " [7 8 9]]\n"
     ]
    }
   ],
   "source": [
    "#3 resize\n",
    "# this function is used to print the array in resizeable like number of rows and number of column\n",
    "n1=np.arange(1,10)\n",
    "x=np.resize(n1,(3,3))\n",
    "print(x)"
   ]
  },
  {
   "cell_type": "code",
   "execution_count": 47,
   "id": "d556bc2b-3e96-4bc7-be55-956289eadbb5",
   "metadata": {},
   "outputs": [
    {
     "name": "stdout",
     "output_type": "stream",
     "text": [
      "[[1 2 3]\n",
      " [4 5 6]]\n"
     ]
    }
   ],
   "source": [
    "n1=np.array([1,2,3,4,5,6,7,8,9])\n",
    "x=np.resize(n1,(2,3))\n",
    "print(x)\n",
    "# focus on the output is show we provide 2,3 means 2 rows and 3 columns in this case output is printed \n",
    "# the conclusion is does not matter the total length of array"
   ]
  },
  {
   "cell_type": "code",
   "execution_count": 49,
   "id": "46cb0433-d68f-42c6-8fde-cf181ebcfa6c",
   "metadata": {},
   "outputs": [
    {
     "name": "stdout",
     "output_type": "stream",
     "text": [
      "[[1 2 3]\n",
      " [4 5 6]\n",
      " [7 8 9]\n",
      " [1 2 3]\n",
      " [4 5 6]]\n"
     ]
    }
   ],
   "source": [
    "n1=np.array([1,2,3,4,5,6,7,8,9])\n",
    "x=np.resize(n1,(5,3))\n",
    "print(x)\n",
    "# focus on the output is show we provide 2,3 means 2 rows and 3 columns in this case output is printed \n",
    "# the conclusion is does not matter the total length of array"
   ]
  },
  {
   "cell_type": "code",
   "execution_count": 57,
   "id": "0a43629c-fbc7-4da5-a801-17ee2c66c428",
   "metadata": {},
   "outputs": [
    {
     "name": "stdout",
     "output_type": "stream",
     "text": [
      "[[1 2 3]\n",
      " [4 5 6]]\n",
      "\n",
      "[1 2 3 4 5 6]\n"
     ]
    }
   ],
   "source": [
    "#4 flatten \n",
    "# Returns single dimension  array, flattening any multidimensional array into a single-dimensional array\n",
    "n1=np.array([[1,2,3],[4,5,6]])\n",
    "print(n1)\n",
    "print()\n",
    "x=n1.flatten()\n",
    "print(x)"
   ]
  },
  {
   "cell_type": "code",
   "execution_count": 58,
   "id": "f93a38e1-ffc4-43de-8a6f-2991e00fa9c7",
   "metadata": {},
   "outputs": [
    {
     "name": "stdout",
     "output_type": "stream",
     "text": [
      "[[1 2 3]\n",
      " [4 5 6]\n",
      " [7 8 9]]\n",
      "\n",
      "[1 2 3 4 5 6 7 8 9]\n"
     ]
    }
   ],
   "source": [
    "n1=np.arange(1,10)\n",
    "n=np.resize(n1,(3,3))\n",
    "print(n)\n",
    "print()\n",
    "x=n.flatten()\n",
    "print(x)"
   ]
  },
  {
   "cell_type": "markdown",
   "id": "bf62ff5e-f308-42d7-9fcf-303399ef0fd9",
   "metadata": {},
   "source": [
    "# Insert , delete,function in numpy"
   ]
  },
  {
   "cell_type": "code",
   "execution_count": 62,
   "id": "eebf8dd1-7dae-42c0-983e-2f0e94682285",
   "metadata": {},
   "outputs": [
    {
     "name": "stdout",
     "output_type": "stream",
     "text": [
      "Original arraay: [11 22 33 44 55 66]\n",
      "[ 11  22  33 111  44  55  66]\n"
     ]
    }
   ],
   "source": [
    "#1 insert this function is used to insert the specific values , row, of the specific location\n",
    "n1=np.array([11,22,33,44,55,66])\n",
    "print(\"Original arraay:\",n1)\n",
    "x=np.insert(n1,3,111) # 3 is the location and 111 is the value\n",
    "print(x)"
   ]
  },
  {
   "cell_type": "code",
   "execution_count": 65,
   "id": "9582cc0d-4c61-45f7-8dda-036ef6b0e341",
   "metadata": {},
   "outputs": [
    {
     "name": "stdout",
     "output_type": "stream",
     "text": [
      "[ 11 222  22  33  44  55 222  66]\n"
     ]
    }
   ],
   "source": [
    "n2=np.array([11,22,33,44,55,66])\n",
    "x=np.insert(n2,(1,5),222)\n",
    "print(x)"
   ]
  },
  {
   "cell_type": "code",
   "execution_count": 68,
   "id": "177277a4-2300-4ef6-96da-fb4dedd14e4f",
   "metadata": {},
   "outputs": [
    {
     "name": "stdout",
     "output_type": "stream",
     "text": [
      "[222  11 222  22  33  44  55 222  66]\n"
     ]
    }
   ],
   "source": [
    "n2=np.array([11,22,33,44,55,66])\n",
    "x=np.insert(n2,(1,5,0),222)\n",
    "print(x)"
   ]
  },
  {
   "cell_type": "code",
   "execution_count": 74,
   "id": "c8bcbd73-a0ff-4776-b94f-f11fbdb6cfb1",
   "metadata": {},
   "outputs": [
    {
     "name": "stdout",
     "output_type": "stream",
     "text": [
      "length: 6\n",
      "[222  11 222  22 222  33  44  55 222  66 222]\n",
      "11\n"
     ]
    }
   ],
   "source": [
    "n2=np.array([11,22,33,44,55,66])\n",
    "print(\"length:\",len(n2))\n",
    "x=np.insert(n2,(1,5,0,2,6),222)\n",
    "print(x)\n",
    "print(len(x))"
   ]
  },
  {
   "cell_type": "code",
   "execution_count": 87,
   "id": "f69e610f-e514-4f42-8428-9d091e604f1c",
   "metadata": {},
   "outputs": [
    {
     "name": "stdout",
     "output_type": "stream",
     "text": [
      "[1 2 3 4 5 6 7 8 9]\n",
      "\n",
      "[[1 2 3]\n",
      " [4 5 6]\n",
      " [7 8 9]]\n",
      "\n",
      "[[ 1  2  3]\n",
      " [ 4  5  6]\n",
      " [11 22 33]\n",
      " [ 7  8  9]]\n",
      "\n",
      "[[  1   2   3]\n",
      " [  4   5   6]\n",
      " [ 11  22  33]\n",
      " [111 222 333]\n",
      " [  7   8   9]]\n"
     ]
    }
   ],
   "source": [
    "n=np.arange(1,10)\n",
    "print(n)\n",
    "print()\n",
    "n1=n.reshape(3,3)\n",
    "print(n1)\n",
    "print()\n",
    "n2=np.insert(n1,2,[11,22,33],axis=0)\n",
    "n3=np.insert(n2,3,[111,222,333],axis=0)\n",
    "print(n2)\n",
    "print()\n",
    "print(n3)"
   ]
  },
  {
   "cell_type": "code",
   "execution_count": 100,
   "id": "30a59982-f5ab-4581-9ed5-767ff362e4e7",
   "metadata": {},
   "outputs": [
    {
     "name": "stdout",
     "output_type": "stream",
     "text": [
      "Original array: [ 1  2  3  4  5  6  7  8  9 10 11 12]\n",
      "\n",
      "After using delete function: [ 1  2  4  5  6  7  8  9 10 11 12]\n"
     ]
    }
   ],
   "source": [
    "#2 delete is used to delete the element of the array\n",
    "n1=np.array(range(1,13))\n",
    "print(\"Original array:\",n1)\n",
    "print()\n",
    "#print(n1.reshape(4,3))\n",
    "x=np.delete(n1,2)\n",
    "print(\"After using delete function:\",x)"
   ]
  },
  {
   "cell_type": "code",
   "execution_count": 104,
   "id": "8ca973e6-b332-4e4c-828a-8fd31a2031b7",
   "metadata": {},
   "outputs": [
    {
     "name": "stdout",
     "output_type": "stream",
     "text": [
      "Original array: [ 1  2  3  4  5  6  7  8  9 10 11 12]\n",
      "\n",
      "After using delete function: [ 1  3  5  6  7  8  9 10 11 12]\n"
     ]
    }
   ],
   "source": [
    "#2 delete is used to delete the element of the array\n",
    "n1=np.array(range(1,13))\n",
    "print(\"Original array:\",n1)\n",
    "print()\n",
    "#print(n1.reshape(4,3))\n",
    "x=np.delete(n1,[1,3])\n",
    "print(\"After using delete function:\",x)"
   ]
  },
  {
   "cell_type": "code",
   "execution_count": 107,
   "id": "b5ce1c2c-63b4-4f5e-8512-2ca90b978a6c",
   "metadata": {},
   "outputs": [
    {
     "name": "stdout",
     "output_type": "stream",
     "text": [
      "Original array: [ 1  2  3  4  5  6  7  8  9 10 11 12]\n",
      "\n",
      "After using delete function: [ 1  3  5  6  7  8  9 10 12]\n"
     ]
    }
   ],
   "source": [
    "#2 delete is used to delete the element of the array\n",
    "n1=np.array(range(1,13))\n",
    "print(\"Original array:\",n1)\n",
    "print()\n",
    "#print(n1.reshape(4,3))\n",
    "x=np.delete(n1,[1,3,10])\n",
    "print(\"After using delete function:\",x)"
   ]
  },
  {
   "cell_type": "code",
   "execution_count": 110,
   "id": "c23e20e0-ae5c-4d24-bb9d-ec4f7bc3dfca",
   "metadata": {},
   "outputs": [
    {
     "name": "stdout",
     "output_type": "stream",
     "text": [
      "Original array: [ 1  2  3  4  5  6  7  8  9 10 11 12]\n",
      "\n",
      "[[ 1  2  3]\n",
      " [ 4  5  6]\n",
      " [ 7  8  9]\n",
      " [10 11 12]]\n",
      "After using delete function: [[ 1  2  3]\n",
      " [ 4  5  6]\n",
      " [10 11 12]]\n"
     ]
    }
   ],
   "source": [
    "#2 delete is used to delete the element of the array\n",
    "n1=np.array(range(1,13))\n",
    "print(\"Original array:\",n1)\n",
    "print()\n",
    "n3=n1.reshape(4,3)\n",
    "print(n3)\n",
    "x=np.delete(n3,2,axis=0)\n",
    "print(\"After using delete function:\",x)"
   ]
  },
  {
   "cell_type": "markdown",
   "id": "76609df4-f904-431c-9cee-11e24b4dd972",
   "metadata": {},
   "source": [
    "# Matrix in numpy array"
   ]
  },
  {
   "cell_type": "code",
   "execution_count": 134,
   "id": "e4cbb130-bf0f-481d-bb86-0d88a80379a1",
   "metadata": {},
   "outputs": [
    {
     "name": "stdout",
     "output_type": "stream",
     "text": [
      "[[1 2 3]\n",
      " [4 5 6]]\n",
      "\n",
      "<class 'numpy.matrix'>\n",
      "\n",
      "Shape of matrix no. of row and column: (2, 3)\n",
      "\n",
      "Dimension: 2\n"
     ]
    }
   ],
   "source": [
    "# Matrix in numpy it is create by 'matrix' keyword\n",
    "n1=np.matrix([[1,2,3],[4,5,6]])\n",
    "print(n1)\n",
    "print()\n",
    "print(type(n1))\n",
    "print()\n",
    "print(\"Shape of matrix no. of row and column:\",n1.shape)\n",
    "print()\n",
    "print(\"Dimension:\",n1.ndim)"
   ]
  },
  {
   "cell_type": "code",
   "execution_count": 135,
   "id": "58d72531-bb00-4c0c-b0b5-1ab4538db071",
   "metadata": {},
   "outputs": [
    {
     "name": "stdout",
     "output_type": "stream",
     "text": [
      "[[ 1  2  3]\n",
      " [ 4  5  6]\n",
      " [ 7  8  9]\n",
      " [10 11 12]]\n",
      "\n",
      "<class 'numpy.matrix'>\n",
      "(4, 3)\n",
      "2\n"
     ]
    }
   ],
   "source": [
    "n1=np.matrix(range(1,13))\n",
    "n=n1.reshape(4,3)\n",
    "print(n)\n",
    "print()\n",
    "print(type(n))\n",
    "print(n.shape)\n",
    "print(n.ndim)"
   ]
  },
  {
   "cell_type": "code",
   "execution_count": 139,
   "id": "1410a9cb-9f9d-4fe4-a019-da229bf7e3e4",
   "metadata": {},
   "outputs": [
    {
     "name": "stdout",
     "output_type": "stream",
     "text": [
      "[[ 1  2  3  4  5  6  7  8  9 10 11 12]]\n",
      "\n",
      "<class 'numpy.matrix'>\n",
      "(1, 12)\n",
      "2\n"
     ]
    }
   ],
   "source": [
    "n1=np.matrix(range(1,13))\n",
    "print(n1)\n",
    "print()\n",
    "print(type(n1))\n",
    "print(n1.shape)\n",
    "print(n1.ndim)"
   ]
  },
  {
   "cell_type": "code",
   "execution_count": 140,
   "id": "6f40cf2c-2897-46fe-8531-97e82cc69c88",
   "metadata": {},
   "outputs": [
    {
     "name": "stdout",
     "output_type": "stream",
     "text": [
      "[[1 2 3 4 5 6]]\n",
      "<class 'numpy.matrix'>\n"
     ]
    }
   ],
   "source": [
    "n = np.matrix(np.arange(1,7))\n",
    "print(n)\n",
    "print(type(n))\n"
   ]
  },
  {
   "cell_type": "code",
   "execution_count": 162,
   "id": "39ac5df0-53b2-4ea0-a398-dae0bb1c7d8d",
   "metadata": {},
   "outputs": [
    {
     "name": "stdout",
     "output_type": "stream",
     "text": [
      "[[1 2]\n",
      " [3 4]]\n",
      "\n",
      "[[4 1]\n",
      " [2 3]]\n",
      "\n",
      "[[ 8  7]\n",
      " [20 15]]\n",
      "\n",
      "[[ 8  7]\n",
      " [20 15]]\n"
     ]
    }
   ],
   "source": [
    "n1=np.matrix([[1,2],[3,4]])\n",
    "print(n1)\n",
    "print()\n",
    "n2=np.matrix([[4,1],[2,3]])\n",
    "print(n2)\n",
    "print()\n",
    "n=n1*n2\n",
    "print(n)\n",
    "print()\n",
    "n3=(n1.dot(n2))\n",
    "\n",
    "print(n3)\n"
   ]
  },
  {
   "cell_type": "code",
   "execution_count": 165,
   "id": "f2b05336-99a3-4cc6-805f-d68ecf07b4e1",
   "metadata": {},
   "outputs": [
    {
     "name": "stdout",
     "output_type": "stream",
     "text": [
      "[[1 2 3]\n",
      " [4 5 6]\n",
      " [7 8 9]]\n",
      "\n",
      "[[1 2 3]\n",
      " [4 5 6]\n",
      " [7 8 9]]\n",
      "\n",
      "[[ 30  36  42]\n",
      " [ 66  81  96]\n",
      " [102 126 150]]\n"
     ]
    }
   ],
   "source": [
    "n1=np.matrix(np.arange(1,10))\n",
    "n2=np.matrix(np.arange(1,10))\n",
    "n3=n1.reshape(3,3)\n",
    "print(n3)\n",
    "print()\n",
    "n4=n2.reshape(3,3)\n",
    "print(n4)\n",
    "print()\n",
    "print(n3*n4)"
   ]
  },
  {
   "cell_type": "markdown",
   "id": "beb61efd-b0fa-4c7c-8d9b-b8b244e8700f",
   "metadata": {},
   "source": [
    "# Matrix function in numpy arrays "
   ]
  },
  {
   "cell_type": "markdown",
   "id": "42a34943-850d-46ba-b293-d93ed3d168dd",
   "metadata": {},
   "source": [
    "# 1 Transpose\n",
    "# 2 Swapaxes\n",
    "# 3 Inverse\n",
    "# 4 Power\n",
    "# 5 Determinate"
   ]
  },
  {
   "cell_type": "code",
   "execution_count": 169,
   "id": "bc60768d-9fb2-4f79-9434-630d05319367",
   "metadata": {},
   "outputs": [
    {
     "name": "stdout",
     "output_type": "stream",
     "text": [
      "[[1 2 3]\n",
      " [5 6 7]]\n",
      "\n",
      "[[1 5]\n",
      " [2 6]\n",
      " [3 7]]\n"
     ]
    }
   ],
   "source": [
    "#1 Transpose\n",
    "n=np.matrix([[1,2,3],[5,6,7]])\n",
    "print(n)\n",
    "print()\n",
    "n1=np.transpose(n)\n",
    "print(n1)"
   ]
  },
  {
   "cell_type": "code",
   "execution_count": 174,
   "id": "c9f75979-6807-40a7-8477-82c9edaca6b6",
   "metadata": {},
   "outputs": [
    {
     "name": "stdout",
     "output_type": "stream",
     "text": [
      "[[1 2 3]\n",
      " [4 5 6]\n",
      " [7 8 9]]\n",
      "\n",
      "[[1 4 7]\n",
      " [2 5 8]\n",
      " [3 6 9]]\n"
     ]
    }
   ],
   "source": [
    "n=np.matrix(np.arange(1,10))\n",
    "n1=n.reshape(3,3)\n",
    "print(n1)\n",
    "print()\n",
    "print(np.transpose(n1))"
   ]
  },
  {
   "cell_type": "code",
   "execution_count": 178,
   "id": "5e89ff55-10fe-4dbd-a880-a492278b7bf1",
   "metadata": {},
   "outputs": [
    {
     "name": "stdout",
     "output_type": "stream",
     "text": [
      "[[1 2 3]\n",
      " [4 5 6]]\n",
      "[[1 4]\n",
      " [2 5]\n",
      " [3 6]]\n"
     ]
    }
   ],
   "source": [
    "#2  Swapaxes\n",
    "n=np.matrix(range(1,7))\n",
    "n1=n.reshape(2,3)\n",
    "print(n1)\n",
    "n2=np.swapaxes(n1,0,1)\n",
    "print(n2)"
   ]
  },
  {
   "cell_type": "code",
   "execution_count": 179,
   "id": "053a549b-4c84-404e-870b-4e5bcc662cc8",
   "metadata": {},
   "outputs": [
    {
     "name": "stdout",
     "output_type": "stream",
     "text": [
      "[[1 2 3]\n",
      " [4 5 6]]\n",
      "[[1 4]\n",
      " [2 5]\n",
      " [3 6]]\n"
     ]
    }
   ],
   "source": [
    "#2  Swapaxes\n",
    "n=np.matrix(range(1,7))\n",
    "n1=n.reshape(2,3)\n",
    "print(n1)\n",
    "n2=np.swapaxes(n1,1,0)\n",
    "print(n2)"
   ]
  },
  {
   "cell_type": "code",
   "execution_count": 201,
   "id": "721a4413-39e7-4d8f-a97d-aa7ed1a09613",
   "metadata": {},
   "outputs": [
    {
     "name": "stdout",
     "output_type": "stream",
     "text": [
      "[[1 2]\n",
      " [3 4]]\n",
      "\n",
      "Inverse matrix:\n",
      " [[-2.   1. ]\n",
      " [ 1.5 -0.5]]\n"
     ]
    }
   ],
   "source": [
    "#3 Inverse\n",
    "n1=np.matrix(range(1,5))\n",
    "n2=n1.reshape(2,2)\n",
    "print(n2)\n",
    "print()\n",
    "n3=np.linalg.inv(n2)\n",
    "print(\"Inverse matrix:\\n\",n3)"
   ]
  },
  {
   "cell_type": "code",
   "execution_count": 188,
   "id": "580e9670-d34e-4825-a872-7a6e532efa2a",
   "metadata": {},
   "outputs": [
    {
     "name": "stdout",
     "output_type": "stream",
     "text": [
      "[[1 2]\n",
      " [1 2]]\n",
      "\n",
      "[[3 6]\n",
      " [3 6]]\n"
     ]
    }
   ],
   "source": [
    "#4 Power\n",
    "n=np.matrix([[1,2],[1,2]])\n",
    "print(n)\n",
    "print()\n",
    "n1=np.linalg.matrix_power(n,2)\n",
    "print(n1)\n"
   ]
  },
  {
   "cell_type": "code",
   "execution_count": 199,
   "id": "e11ceee1-7e7f-41a6-8df8-779ae8d42c3b",
   "metadata": {},
   "outputs": [
    {
     "name": "stdout",
     "output_type": "stream",
     "text": [
      "[[11 12 13]\n",
      " [14 15 16]\n",
      " [17 18 19]]\n",
      "\n",
      "Determinent: -2.131628207280298e-14\n"
     ]
    }
   ],
   "source": [
    "#5 Determinate\n",
    "n1=np.matrix(range(11,20))\n",
    "n2=n1.reshape(3,3)\n",
    "print(n2)\n",
    "print()\n",
    "n3=np.linalg.det(n2)\n",
    "print(\"Determinent:\",n3)"
   ]
  }
 ],
 "metadata": {
  "kernelspec": {
   "display_name": "Python 3 (ipykernel)",
   "language": "python",
   "name": "python3"
  },
  "language_info": {
   "codemirror_mode": {
    "name": "ipython",
    "version": 3
   },
   "file_extension": ".py",
   "mimetype": "text/x-python",
   "name": "python",
   "nbconvert_exporter": "python",
   "pygments_lexer": "ipython3",
   "version": "3.12.3"
  }
 },
 "nbformat": 4,
 "nbformat_minor": 5
}
