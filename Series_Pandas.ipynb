{
 "cells": [
  {
   "cell_type": "markdown",
   "id": "98a6b8f1-4803-4690-b91f-8f7f27a38ab9",
   "metadata": {},
   "source": [
    "# Pandas Rivision"
   ]
  },
  {
   "cell_type": "code",
   "execution_count": 2,
   "id": "5e1ed21e-db69-446a-9feb-eb6a00fcb10b",
   "metadata": {},
   "outputs": [],
   "source": [
    "import pandas as pd"
   ]
  },
  {
   "cell_type": "markdown",
   "id": "bf8c9436-3671-41c1-b66c-3d4816f3a409",
   "metadata": {},
   "source": [
    "# Series"
   ]
  },
  {
   "cell_type": "code",
   "execution_count": 4,
   "id": "18d757f3-5bf4-4614-8d98-b19538b0e41d",
   "metadata": {},
   "outputs": [
    {
     "name": "stdout",
     "output_type": "stream",
     "text": [
      "Series([], dtype: object)\n",
      "<class 'pandas.core.series.Series'>\n"
     ]
    }
   ],
   "source": [
    "df=pd.Series()\n",
    "print(df)\n",
    "print(type(df))"
   ]
  },
  {
   "cell_type": "code",
   "execution_count": 7,
   "id": "63ffba47-568c-4f62-ae55-5fdb45976a5c",
   "metadata": {},
   "outputs": [
    {
     "name": "stdout",
     "output_type": "stream",
     "text": [
      "0    11\n",
      "1    22\n",
      "2    33\n",
      "3    44\n",
      "4    55\n",
      "5    66\n",
      "dtype: int64\n"
     ]
    }
   ],
   "source": [
    "# Simple series printing program\n",
    "# Using list\n",
    "p=[11,22,33,44,55,66]\n",
    "df=pd.Series(p)\n",
    "print(df)"
   ]
  },
  {
   "cell_type": "code",
   "execution_count": 5,
   "id": "e8d73ce8-75cc-475b-adb9-44439f5c9aeb",
   "metadata": {},
   "outputs": [
    {
     "name": "stdout",
     "output_type": "stream",
     "text": [
      "0     1\n",
      "1     2\n",
      "2     3\n",
      "3     4\n",
      "4     5\n",
      "5     6\n",
      "6     7\n",
      "7     8\n",
      "8     9\n",
      "9    10\n",
      "dtype: int64\n"
     ]
    }
   ],
   "source": [
    "# Using range function\n",
    "p1=range(1,11)\n",
    "df=pd.Series(p1)\n",
    "print(df)\n",
    "\n",
    "# In the output 1st column is of index and 2nd column is values"
   ]
  },
  {
   "cell_type": "markdown",
   "id": "593aa17f-fba8-429b-b6cc-08bb7209ab27",
   "metadata": {},
   "source": [
    "# Slicing in Series"
   ]
  },
  {
   "cell_type": "code",
   "execution_count": 13,
   "id": "ddc7e34d-f846-46f2-91e7-8cc6ad566c61",
   "metadata": {},
   "outputs": [
    {
     "name": "stdout",
     "output_type": "stream",
     "text": [
      "3    4\n",
      "4    5\n",
      "5    6\n",
      "dtype: int64\n",
      "\n",
      "1    2\n",
      "3    4\n",
      "5    6\n",
      "7    8\n",
      "dtype: int64\n",
      "\n",
      "9    10\n",
      "8     9\n",
      "7     8\n",
      "6     7\n",
      "5     6\n",
      "4     5\n",
      "3     4\n",
      "2     3\n",
      "1     2\n",
      "0     1\n",
      "dtype: int64\n"
     ]
    }
   ],
   "source": [
    "p1=[1,2,3,4,5,6,7,8,9,10]\n",
    "df=pd.Series(p1)\n",
    "print(df[3])\n",
    "print()\n",
    "print(df[3:6])\n",
    "print()\n",
    "print(df[1:9:2])\n",
    "print()\n",
    "print(df[::-1])"
   ]
  },
  {
   "cell_type": "code",
   "execution_count": 14,
   "id": "e06dce21-4a60-4c03-b7d9-de80936e8489",
   "metadata": {},
   "outputs": [
    {
     "name": "stdout",
     "output_type": "stream",
     "text": [
      "0     1\n",
      "1    21\n",
      "2    41\n",
      "3    61\n",
      "4    81\n",
      "dtype: int32\n"
     ]
    }
   ],
   "source": [
    "#using numpy arange\n",
    "import numpy as np\n",
    "p1=np.arange(1,100,20)\n",
    "df=pd.Series(p1)\n",
    "print(df)"
   ]
  },
  {
   "cell_type": "markdown",
   "id": "cc3cc2c9-197a-4b29-a576-dc07815b359d",
   "metadata": {},
   "source": [
    "# Data type conversion"
   ]
  },
  {
   "cell_type": "code",
   "execution_count": 34,
   "id": "379d01e9-afd8-48a8-a11b-3d1db9d5a559",
   "metadata": {},
   "outputs": [
    {
     "name": "stdout",
     "output_type": "stream",
     "text": [
      "0     1.0\n",
      "1     4.0\n",
      "2     7.0\n",
      "3    10.0\n",
      "4    13.0\n",
      "5    16.0\n",
      "6    19.0\n",
      "7    22.0\n",
      "dtype: float64\n",
      "0     1.0\n",
      "1     4.0\n",
      "2     7.0\n",
      "3    10.0\n",
      "4    13.0\n",
      "5    16.0\n",
      "6    19.0\n",
      "7    22.0\n",
      "dtype: float64\n",
      "0     1.0\n",
      "1     4.0\n",
      "2     7.0\n",
      "3    10.0\n",
      "4    13.0\n",
      "5    16.0\n",
      "6    19.0\n",
      "7    22.0\n",
      "dtype: float64\n",
      "0     1.0\n",
      "1     4.0\n",
      "2     7.0\n",
      "3    10.0\n",
      "4    13.0\n",
      "5    16.0\n",
      "6    19.0\n",
      "7    22.0\n",
      "dtype: float64\n",
      "\n",
      "0    1\n",
      "1    2\n",
      "2    3\n",
      "3    4\n",
      "4    5\n",
      "dtype: int32\n",
      "0    1\n",
      "1    2\n",
      "2    3\n",
      "3    4\n",
      "4    5\n",
      "dtype: int64\n",
      "0    1\n",
      "1    2\n",
      "2    3\n",
      "3    4\n",
      "4    6\n",
      "dtype: int32\n"
     ]
    }
   ],
   "source": [
    "p=range(1,25,3)\n",
    "p1=[1.1,2.2,3.3,4.4,5.5]\n",
    "df=pd.Series(p,dtype=\"float\")\n",
    "df1=pd.Series(p1)\n",
    "print(df)\n",
    "print(df.astype(float))\n",
    "print(df.apply(float))\n",
    "print(df.round().astype(float))\n",
    "print()\n",
    "print(df1.astype(int))\n",
    "print(df1.apply(int))\n",
    "print(df1.round().astype(int))"
   ]
  },
  {
   "cell_type": "markdown",
   "id": "6fbd7c06-42de-487c-8d78-1a1f8ac77084",
   "metadata": {},
   "source": [
    "# Indexing in Series"
   ]
  },
  {
   "cell_type": "code",
   "execution_count": 38,
   "id": "ffe6df20-9584-406b-9d03-7696db882fa1",
   "metadata": {},
   "outputs": [
    {
     "name": "stdout",
     "output_type": "stream",
     "text": [
      "a    1\n",
      "b    2\n",
      "c    3\n",
      "d    4\n",
      "e    5\n",
      "f    6\n",
      "dtype: int64\n"
     ]
    }
   ],
   "source": [
    "#Indexing provide index as your choice note no. of index must be same to no. of values\n",
    "p2=range(1,7)\n",
    "df=pd.Series(p2,index=[\"a\",\"b\",\"c\",\"d\",\"e\",\"f\"])\n",
    "print(df)"
   ]
  },
  {
   "cell_type": "code",
   "execution_count": 48,
   "id": "46949660-4c1e-4b17-ab62-3fdafbbb4efb",
   "metadata": {},
   "outputs": [
    {
     "name": "stdout",
     "output_type": "stream",
     "text": [
      "1    1\n",
      "2    2\n",
      "3    3\n",
      "4    4\n",
      "5    5\n",
      "6    6\n",
      "dtype: int64\n"
     ]
    }
   ],
   "source": [
    "p=range(1,7)\n",
    "df=pd.Series(p,index=[1,2,3,4,5,6])\n",
    "print(df)"
   ]
  },
  {
   "cell_type": "code",
   "execution_count": 53,
   "id": "238d1a51-0d98-4a88-b2a0-d0c27433424d",
   "metadata": {},
   "outputs": [
    {
     "name": "stdout",
     "output_type": "stream",
     "text": [
      "1    12\n",
      "2    12\n",
      "3    12\n",
      "4    12\n",
      "5    12\n",
      "6    12\n",
      "dtype: int64\n"
     ]
    }
   ],
   "source": [
    "p=pd.Series(12,index=[1,2,3,4,5,6])\n",
    "print(p)"
   ]
  },
  {
   "cell_type": "code",
   "execution_count": 45,
   "id": "95e048d7-a1ed-4f80-8a70-1e0a3020e259",
   "metadata": {},
   "outputs": [
    {
     "name": "stdout",
     "output_type": "stream",
     "text": [
      "name:        [C, python, java, R]\n",
      "year:    [1972, 1991, 1995, 1900]\n",
      "rank:                [3, 1, 2, 4]\n",
      "dtype: object\n",
      "<class 'pandas.core.series.Series'>\n"
     ]
    }
   ],
   "source": [
    "# Using dictionary\n",
    "d1={\"name:\":[\"C\",\"python\",\"java\",\"R\"],\"year:\":[1972,1991,1995,1900],\"rank:\":[3,1,2,4]}\n",
    "df=pd.Series(d1)\n",
    "print(df)\n",
    "print(type(df))"
   ]
  },
  {
   "cell_type": "markdown",
   "id": "d03ef640-bb20-45ba-b91b-2f188e974ade",
   "metadata": {},
   "source": [
    "# Arithmatic operation on Series in pandas"
   ]
  },
  {
   "cell_type": "code",
   "execution_count": 61,
   "id": "9b977d10-de96-4d8e-a27c-987048aeb9c5",
   "metadata": {},
   "outputs": [
    {
     "name": "stdout",
     "output_type": "stream",
     "text": [
      "0    1\n",
      "1    2\n",
      "2    3\n",
      "3    4\n",
      "dtype: int64\n",
      "\n",
      "0    11\n",
      "1    12\n",
      "2    13\n",
      "3    14\n",
      "dtype: int64\n",
      "\n",
      "Addition:\n",
      " 0    12\n",
      "1    14\n",
      "2    16\n",
      "3    18\n",
      "dtype: int64\n",
      "\n",
      "Substraction:\n",
      " 0    10\n",
      "1    10\n",
      "2    10\n",
      "3    10\n",
      "dtype: int64\n",
      "\n",
      "Multiplication:\n",
      " 0    11\n",
      "1    24\n",
      "2    39\n",
      "3    56\n",
      "dtype: int64\n",
      "\n",
      "Division:\n",
      " 0    11.000000\n",
      "1     6.000000\n",
      "2     4.333333\n",
      "3     3.500000\n",
      "dtype: float64\n"
     ]
    }
   ],
   "source": [
    "#addition\n",
    "#substraction\n",
    "#multiplication\n",
    "#division\n",
    "p1=range(1,5)\n",
    "p2=range(11,15)\n",
    "df1=pd.Series(p1)\n",
    "df2=pd.Series(p2)\n",
    "print(df1)\n",
    "print()\n",
    "print(df2)\n",
    "print()\n",
    "p3=df1+df2\n",
    "print(\"Addition:\\n\",p3)\n",
    "print()\n",
    "p4=df2-df1\n",
    "print(\"Substraction:\\n\",p4)\n",
    "print()\n",
    "p5=df1*df2\n",
    "print(\"Multiplication:\\n\",p5)\n",
    "print()\n",
    "p6=df2/df1\n",
    "print(\"Division:\\n\",p6)\n"
   ]
  },
  {
   "cell_type": "code",
   "execution_count": 71,
   "id": "bb61a083-8ab0-4993-bea6-d546e8951a15",
   "metadata": {},
   "outputs": [
    {
     "name": "stdout",
     "output_type": "stream",
     "text": [
      "Addition\n",
      "0     7\n",
      "1     9\n",
      "2    11\n",
      "3    13\n",
      "4    15\n",
      "dtype: int64\n",
      "Subtraction\n",
      "0    5\n",
      "1    5\n",
      "2    5\n",
      "3    5\n",
      "4    5\n",
      "dtype: int64\n",
      "Multiplication\n",
      "0     6\n",
      "1    14\n",
      "2    24\n",
      "3    36\n",
      "4    50\n",
      "dtype: int64\n",
      "Division\n",
      "0    6.000000\n",
      "1    3.500000\n",
      "2    2.666667\n",
      "3    2.250000\n",
      "4    2.000000\n",
      "dtype: float64\n",
      "Power\n",
      "0         6\n",
      "1        49\n",
      "2       512\n",
      "3      6561\n",
      "4    100000\n",
      "dtype: int64\n"
     ]
    }
   ],
   "source": [
    "# Using build-in method\n",
    "#1  add()\n",
    "#2  subtract()\n",
    "#3  multiply()\n",
    "#4  divide()\n",
    "p1=range(6,11)\n",
    "p2=range(1,6)\n",
    "df1=pd.Series(p1)\n",
    "df2=pd.Series(p2)\n",
    "add=df1.add(df2)\n",
    "print(\"Addition\")\n",
    "print(add)\n",
    "sub=df1.subtract(df2)\n",
    "print(\"Subtraction\")\n",
    "print(sub)\n",
    "mul=df1.multiply(df2)\n",
    "print(\"Multiplication\")\n",
    "print(mul)\n",
    "div=df1.divide(df2)\n",
    "print(\"Division\")\n",
    "print(div)\n",
    "power=df1.pow(df2)\n",
    "print(\"Power\")\n",
    "print(power)\n"
   ]
  },
  {
   "cell_type": "code",
   "execution_count": 79,
   "id": "aef2dcfa-a140-490e-a69e-4e6fc7587eb1",
   "metadata": {},
   "outputs": [
    {
     "name": "stdout",
     "output_type": "stream",
     "text": [
      "0    1\n",
      "1    2\n",
      "2    3\n",
      "dtype: int64\n",
      "0    4\n",
      "1    5\n",
      "2    6\n",
      "dtype: int64\n",
      "0    0\n",
      "1    1\n",
      "2    2\n",
      "dtype: int64\n",
      "0     4\n",
      "1     8\n",
      "2    12\n",
      "dtype: int64\n",
      "0    0.5\n",
      "1    1.0\n",
      "2    1.5\n",
      "dtype: float64\n",
      "0     1\n",
      "1     8\n",
      "2    27\n",
      "dtype: int64\n"
     ]
    }
   ],
   "source": [
    "p=range(1,4)\n",
    "df=pd.Series(p)\n",
    "print(df)\n",
    "a=df+3\n",
    "b=df-1\n",
    "c=df*4\n",
    "d=df/2\n",
    "e=df**3\n",
    "print(a)\n",
    "print(b)\n",
    "print(c)\n",
    "print(d)\n",
    "print(e)"
   ]
  },
  {
   "cell_type": "markdown",
   "id": "21728723-5334-493c-8be3-e009088781d8",
   "metadata": {},
   "source": [
    "# Aggregation function "
   ]
  },
  {
   "cell_type": "code",
   "execution_count": 101,
   "id": "e0d50876-240d-4a07-bc64-1f2daf81a042",
   "metadata": {},
   "outputs": [
    {
     "name": "stdout",
     "output_type": "stream",
     "text": [
      "0    1\n",
      "1    2\n",
      "2    3\n",
      "3    4\n",
      "4    5\n",
      "dtype: int64\n",
      "Total length: 5\n",
      "Total sum: 15\n",
      "minimum value: 1\n",
      "maximum value: 5\n",
      "Sorted values: [1, 2, 3, 4, 5]\n"
     ]
    }
   ],
   "source": [
    "#1 min\n",
    "#2 max\n",
    "#3 sum\n",
    "#4 len\n",
    "#5 sorted\n",
    "p1=range(1,6)\n",
    "df=pd.Series(p1)\n",
    "print(df)\n",
    "print(\"Total length:\",len(df))\n",
    "print(\"Total sum:\",sum(df))\n",
    "print(\"minimum value:\",min(df))\n",
    "print(\"maximum value:\",max(df))\n",
    "print(\"Sorted values:\",sorted(df))"
   ]
  },
  {
   "cell_type": "code",
   "execution_count": 7,
   "id": "c1593ad4-b96f-47bf-bc5e-e083d18a68b0",
   "metadata": {},
   "outputs": [
    {
     "name": "stdout",
     "output_type": "stream",
     "text": [
      "0     1\n",
      "1     2\n",
      "2     3\n",
      "3     4\n",
      "4     5\n",
      "5     6\n",
      "6     7\n",
      "7     8\n",
      "8     9\n",
      "9    10\n",
      "dtype: int64\n"
     ]
    }
   ],
   "source": [
    "p2=range(1,11)\n",
    "df=pd.Series(p2)\n",
    "print(df)\n",
    "save=df.to_csv(\"series.csv\",index=True)"
   ]
  },
  {
   "cell_type": "code",
   "execution_count": 15,
   "id": "049919be-5370-48bb-935b-d2c1c1ca9644",
   "metadata": {},
   "outputs": [
    {
     "name": "stdout",
     "output_type": "stream",
     "text": [
      "    Even_Number\n",
      "0             2\n",
      "1             4\n",
      "2             6\n",
      "3             8\n",
      "4            10\n",
      "5            12\n",
      "6            14\n",
      "7            16\n",
      "8            18\n",
      "9            20\n",
      "10           22\n",
      "11           24\n",
      "12           26\n",
      "13           28\n",
      "14           30\n",
      "15           32\n",
      "16           34\n",
      "17           36\n",
      "18           38\n",
      "19           40\n",
      "20           42\n",
      "21           44\n",
      "22           46\n",
      "23           48\n"
     ]
    }
   ],
   "source": [
    "p3=range(2,50,2)\n",
    "df=pd.Series(p3,name=\"Even_Number\")\n",
    "d=df.to_frame()\n",
    "print(d)\n",
    "s=d.to_csv(\"saveSeries.csv\")"
   ]
  },
  {
   "cell_type": "code",
   "execution_count": 6,
   "id": "8a3bc49c-52fa-411f-8503-f9d16911d4ce",
   "metadata": {},
   "outputs": [
    {
     "ename": "TypeError",
     "evalue": "Series.__init__() got an unexpected keyword argument 'astype'",
     "output_type": "error",
     "traceback": [
      "\u001b[1;31m---------------------------------------------------------------------------\u001b[0m",
      "\u001b[1;31mTypeError\u001b[0m                                 Traceback (most recent call last)",
      "Cell \u001b[1;32mIn[6], line 2\u001b[0m\n\u001b[0;32m      1\u001b[0m \u001b[38;5;28;01mimport\u001b[39;00m \u001b[38;5;21;01mpandas\u001b[39;00m \u001b[38;5;28;01mas\u001b[39;00m \u001b[38;5;21;01mpd\u001b[39;00m\n\u001b[1;32m----> 2\u001b[0m df\u001b[38;5;241m=\u001b[39m\u001b[43mpd\u001b[49m\u001b[38;5;241;43m.\u001b[39;49m\u001b[43mSeries\u001b[49m\u001b[43m(\u001b[49m\u001b[43m(\u001b[49m\u001b[38;5;241;43m1\u001b[39;49m\u001b[43m,\u001b[49m\u001b[38;5;241;43m2\u001b[39;49m\u001b[43m,\u001b[49m\u001b[38;5;241;43m3\u001b[39;49m\u001b[43m)\u001b[49m\u001b[43m,\u001b[49m\u001b[43mindex\u001b[49m\u001b[38;5;241;43m=\u001b[39;49m\u001b[43m[\u001b[49m\u001b[38;5;124;43m\"\u001b[39;49m\u001b[38;5;124;43ma\u001b[39;49m\u001b[38;5;124;43m\"\u001b[39;49m\u001b[43m,\u001b[49m\u001b[38;5;124;43m\"\u001b[39;49m\u001b[38;5;124;43mb\u001b[39;49m\u001b[38;5;124;43m\"\u001b[39;49m\u001b[43m,\u001b[49m\u001b[38;5;124;43m\"\u001b[39;49m\u001b[38;5;124;43mc\u001b[39;49m\u001b[38;5;124;43m\"\u001b[39;49m\u001b[43m]\u001b[49m\u001b[43m,\u001b[49m\u001b[43mastype\u001b[49m\u001b[38;5;241;43m=\u001b[39;49m\u001b[38;5;28;43mfloat\u001b[39;49m\u001b[43m)\u001b[49m\n\u001b[0;32m      3\u001b[0m \u001b[38;5;28mprint\u001b[39m(df)\n",
      "\u001b[1;31mTypeError\u001b[0m: Series.__init__() got an unexpected keyword argument 'astype'"
     ]
    }
   ],
   "source": [
    "import pandas as pd\n",
    "df=pd.Series((1,2,3),index=[\"a\",\"b\",\"c\"],=float)\n",
    "print(df)"
   ]
  }
 ],
 "metadata": {
  "kernelspec": {
   "display_name": "Python 3 (ipykernel)",
   "language": "python",
   "name": "python3"
  },
  "language_info": {
   "codemirror_mode": {
    "name": "ipython",
    "version": 3
   },
   "file_extension": ".py",
   "mimetype": "text/x-python",
   "name": "python",
   "nbconvert_exporter": "python",
   "pygments_lexer": "ipython3",
   "version": "3.12.3"
  }
 },
 "nbformat": 4,
 "nbformat_minor": 5
}
